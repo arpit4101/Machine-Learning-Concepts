{
  "nbformat": 4,
  "nbformat_minor": 0,
  "metadata": {
    "colab": {
      "provenance": [],
      "authorship_tag": "ABX9TyOwuRrQZrrninD28rsS6hLC",
      "include_colab_link": true
    },
    "kernelspec": {
      "name": "python3",
      "display_name": "Python 3"
    },
    "language_info": {
      "name": "python"
    }
  },
  "cells": [
    {
      "cell_type": "markdown",
      "metadata": {
        "id": "view-in-github",
        "colab_type": "text"
      },
      "source": [
        "<a href=\"https://colab.research.google.com/github/arpit4101/Machine-Learning-Concepts/blob/main/Regularisation/Ridge/Ridge_Regression_by_Gradient_Descent.ipynb\" target=\"_parent\"><img src=\"https://colab.research.google.com/assets/colab-badge.svg\" alt=\"Open In Colab\"/></a>"
      ]
    },
    {
      "cell_type": "code",
      "execution_count": null,
      "metadata": {
        "colab": {
          "base_uri": "https://localhost:8080/"
        },
        "id": "VBxnsa7O8pBP",
        "outputId": "fb34fb68-a361-438b-fc21-d79e9d6206ac"
      },
      "outputs": [
        {
          "output_type": "execute_result",
          "data": {
            "text/plain": [
              "(442, 10)"
            ]
          },
          "metadata": {},
          "execution_count": 34
        }
      ],
      "source": [
        "from sklearn.datasets import load_diabetes\n",
        "import numpy as np\n",
        "import pandas as pd\n",
        "\n",
        "X,y = load_diabetes(return_X_y=True)\n",
        "X.shape"
      ]
    },
    {
      "cell_type": "code",
      "source": [
        "from sklearn.model_selection import train_test_split\n",
        "\n",
        "X_train, X_test, y_train, y_test = train_test_split(X,y,test_size=0.2,random_state=4)\n",
        "X_train.shape"
      ],
      "metadata": {
        "colab": {
          "base_uri": "https://localhost:8080/"
        },
        "id": "e9emuHV79ULe",
        "outputId": "94486747-34d2-43d1-adf8-2f0e59be896b"
      },
      "execution_count": null,
      "outputs": [
        {
          "output_type": "execute_result",
          "data": {
            "text/plain": [
              "(353, 10)"
            ]
          },
          "metadata": {},
          "execution_count": 35
        }
      ]
    },
    {
      "cell_type": "code",
      "source": [
        "from sklearn.linear_model import SGDRegressor\n",
        "from sklearn.metrics import r2_score\n",
        "sgd = SGDRegressor(penalty='l2', max_iter=500, learning_rate='constant', eta0=0.1, alpha=0.001)\n",
        "\n",
        "sgd.fit(X_train, y_train)\n",
        "\n",
        "y_pred = sgd.predict(X_test)\n",
        "\n",
        "print('r2 score : ', r2_score(y_test, y_pred))\n",
        "print('intercept : ', sgd.intercept_)\n",
        "print('coefficient : ', sgd.coef_)"
      ],
      "metadata": {
        "colab": {
          "base_uri": "https://localhost:8080/"
        },
        "id": "iESBC4aF9hoX",
        "outputId": "731420bb-bb3f-4937-b7e8-006ff1c13fd5"
      },
      "execution_count": null,
      "outputs": [
        {
          "output_type": "stream",
          "name": "stdout",
          "text": [
            "r2 score :  0.42969233425905196\n",
            "intercept :  [143.09500795]\n",
            "coefficient :  [  50.77025047 -155.93906719  371.11915242  268.77562741   -8.115221\n",
            "  -60.40355118 -168.43731991  137.3282465   334.02781299   97.88317527]\n"
          ]
        }
      ]
    },
    {
      "cell_type": "code",
      "source": [
        "from sklearn.linear_model import Ridge\n",
        "\n",
        "r = Ridge(alpha=0.001, max_iter=500, solver= 'sparse_cg')\n",
        "\n",
        "r.fit(X_train, y_train)\n",
        "\n",
        "y_pred1 = r.predict(X_test)\n",
        "\n",
        "print('r2 score : ', r2_score(y_test, y_pred1))\n",
        "print('intercept : ', r.intercept_)\n",
        "print('coefficient : ', r.coef_)"
      ],
      "metadata": {
        "colab": {
          "base_uri": "https://localhost:8080/"
        },
        "id": "RvQhUIV6-Lob",
        "outputId": "740f28cd-f857-4c16-db8a-df60d35b3f65"
      },
      "execution_count": null,
      "outputs": [
        {
          "output_type": "stream",
          "name": "stdout",
          "text": [
            "r2 score :  0.46250101619914563\n",
            "intercept :  151.10198517439466\n",
            "coefficient :  [  34.52192544 -290.84084076  482.40181344  368.0678662  -852.44873179\n",
            "  501.59160336  180.11115788  270.76333979  759.73534372   37.4913546 ]\n"
          ]
        }
      ]
    },
    {
      "cell_type": "markdown",
      "source": [
        "# Class code for Ridge Regression through Gradient Descent"
      ],
      "metadata": {
        "id": "coiTXha3BqPQ"
      }
    },
    {
      "cell_type": "code",
      "source": [
        "class meraRidgeGD :\n",
        "\n",
        "  def __init__(self, epochs=100, learning_rate=0.1, alpha=0.001):\n",
        "\n",
        "    self.epochs = epochs\n",
        "    self.learning_rate = learning_rate\n",
        "    self.alpha = alpha\n",
        "    self.coef_ = None\n",
        "    self.intercept_ = None\n",
        "\n",
        "  def fit(self, X_train, y_train):\n",
        "\n",
        "    self.coef_ = np.ones(X_train.shape[1])\n",
        "    self.intercept_ = 0\n",
        "\n",
        "    theta = np.insert(self.coef_, 0, self.intercept_)  #This is the parameters array including coef & intercept\n",
        "\n",
        "    X_train = np.insert(X_train, 0, 1, axis=1)\n",
        "\n",
        "    for i in range(self.epochs):\n",
        "\n",
        "      theta_der = np.dot(X_train.T, X_train).dot(theta) - np.dot(X_train.T, y_train) + (self.alpha * theta)\n",
        "\n",
        "      theta = theta - (self.learning_rate * theta_der)\n",
        "\n",
        "    self.intercept_ = theta[0]\n",
        "    self.coef_ = theta[1:]\n",
        "\n",
        "  def predict(self, X_test):\n",
        "\n",
        "    return np.dot(X_test, self.coef_) + self.intercept_"
      ],
      "metadata": {
        "id": "AYrE98XqB0hr"
      },
      "execution_count": null,
      "outputs": []
    },
    {
      "cell_type": "code",
      "source": [
        "mrgd = meraRidgeGD(epochs=500, learning_rate=0.005, alpha=0.001)\n",
        "\n",
        "mrgd.fit(X_train, y_train)\n",
        "\n",
        "y_pred2 = mrgd.predict(X_test)\n",
        "\n",
        "print('r2 score : ', r2_score(y_test, y_pred2))\n",
        "print('intercept : ', mrgd.intercept_)\n",
        "print('coefficient : ', mrgd.coef_)"
      ],
      "metadata": {
        "colab": {
          "base_uri": "https://localhost:8080/"
        },
        "id": "uo_JnLmuEW6g",
        "outputId": "8415cfb4-8812-47a2-e86c-1ec254cccdbf"
      },
      "execution_count": null,
      "outputs": [
        {
          "output_type": "stream",
          "name": "stdout",
          "text": [
            "r2 score :  0.4738018280260913\n",
            "intercept :  150.86975316713472\n",
            "coefficient :  [  46.65050914 -221.3750037   452.12080647  325.54248128  -29.09464178\n",
            "  -96.47517735 -190.90017011  146.32900372  400.80267299   95.09048094]\n"
          ]
        }
      ]
    }
  ]
}