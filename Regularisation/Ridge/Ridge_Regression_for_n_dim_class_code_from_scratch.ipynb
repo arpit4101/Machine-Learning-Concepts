{
  "nbformat": 4,
  "nbformat_minor": 0,
  "metadata": {
    "colab": {
      "provenance": [],
      "authorship_tag": "ABX9TyPBtDO3ez0gKFzaVEEOfo7c",
      "include_colab_link": true
    },
    "kernelspec": {
      "name": "python3",
      "display_name": "Python 3"
    },
    "language_info": {
      "name": "python"
    }
  },
  "cells": [
    {
      "cell_type": "markdown",
      "metadata": {
        "id": "view-in-github",
        "colab_type": "text"
      },
      "source": [
        "<a href=\"https://colab.research.google.com/github/arpit4101/Machine-Learning-Concepts/blob/main/Regularisation/Ridge/Ridge_Regression_for_n_dim_class_code_from_scratch.ipynb\" target=\"_parent\"><img src=\"https://colab.research.google.com/assets/colab-badge.svg\" alt=\"Open In Colab\"/></a>"
      ]
    },
    {
      "cell_type": "code",
      "execution_count": null,
      "metadata": {
        "id": "wefUUc2rayJb"
      },
      "outputs": [],
      "source": [
        "from sklearn.datasets import load_diabetes\n",
        "import numpy as np\n",
        "import pandas as pd\n",
        "\n",
        "data = load_diabetes()\n",
        "X = data.data\n",
        "y = data.target"
      ]
    },
    {
      "cell_type": "code",
      "source": [
        "from sklearn.model_selection import train_test_split\n",
        "\n",
        "X_train, X_test, y_train, y_test = train_test_split(X,y,test_size=0.2, random_state=4)"
      ],
      "metadata": {
        "id": "oK29ByVsbkjq"
      },
      "execution_count": null,
      "outputs": []
    },
    {
      "cell_type": "code",
      "source": [
        "X_train.shape"
      ],
      "metadata": {
        "colab": {
          "base_uri": "https://localhost:8080/"
        },
        "id": "NgPYSzwUcATc",
        "outputId": "7f769fea-d976-4ac9-c0bd-a9ac11509714"
      },
      "execution_count": null,
      "outputs": [
        {
          "output_type": "execute_result",
          "data": {
            "text/plain": [
              "(353, 10)"
            ]
          },
          "metadata": {},
          "execution_count": 13
        }
      ]
    },
    {
      "cell_type": "code",
      "source": [
        "from sklearn.linear_model import Ridge\n",
        "from sklearn.metrics import r2_score\n",
        "\n",
        "reg = Ridge(alpha=0.1, solver='cholesky')\n",
        "\n",
        "reg.fit(X_train, y_train)\n",
        "\n",
        "y_pred = reg.predict(X_test)\n",
        "print('r2 score : ', r2_score(y_test, y_pred))\n",
        "print('coefficient : ', reg.coef_)\n",
        "print('intercept : ', reg.intercept_)"
      ],
      "metadata": {
        "colab": {
          "base_uri": "https://localhost:8080/"
        },
        "id": "F5sY5ENmcCdf",
        "outputId": "c760b913-c918-4888-ddcf-8097f31d786a"
      },
      "execution_count": null,
      "outputs": [
        {
          "output_type": "stream",
          "name": "stdout",
          "text": [
            "r2 score :  0.4693128853309805\n",
            "coefficient :  [  44.02063391 -241.69329987  452.98665299  332.04420177  -76.33686744\n",
            "  -68.52143809 -164.98809083  149.96908118  431.61347417   58.51862681]\n",
            "intercept :  150.89053425602808\n"
          ]
        }
      ]
    },
    {
      "cell_type": "markdown",
      "source": [
        "# # Ridge Regression for n-dim data"
      ],
      "metadata": {
        "id": "qPj6LVEDdAZf"
      }
    },
    {
      "cell_type": "code",
      "source": [
        "class MeraRidge:\n",
        "\n",
        "  def __init__(self, alpha=0.1):\n",
        "\n",
        "    self.alpha = alpha\n",
        "    self.coef_ = None\n",
        "    self.intercept_ = None\n",
        "\n",
        "  def fit(self, X_train, y_train):\n",
        "\n",
        "    X_train = np.insert(X_train, 0, 1, axis=1)\n",
        "\n",
        "    I = np.identity(X_train.shape[1])   # here we have taken the first element of Identity matrix as zero\n",
        "    I[0][0] = 0                   # Because there is a very small difference coming when we use our own class with the proper Ident. matrix, thus\n",
        "                    # We reserched and got to know that in the Ridge class, they have inplemented the code with first element of I matrix is zero.\n",
        "                    # Now our class is matching the Ridge class's answer exactly.\n",
        "\n",
        "    result = np.linalg.inv( np.dot(X_train.T, X_train) + np.dot(self.alpha, I)).dot(X_train.T).dot(y_train)\n",
        "\n",
        "    self.intercept_ = result[0]\n",
        "    self.coef_ = result[1:]\n",
        "\n",
        "  def predict(self, X_test):\n",
        "\n",
        "    return np.dot(X_test, self.coef_) + self.intercept_"
      ],
      "metadata": {
        "id": "B670SG51dCs5"
      },
      "execution_count": null,
      "outputs": []
    },
    {
      "cell_type": "code",
      "source": [
        "mr = MeraRidge(alpha=0.1)\n",
        "\n",
        "mr.fit(X_train, y_train)\n",
        "\n",
        "y_pred1 = mr.predict(X_test)\n",
        "\n",
        "print('r2 score : ', r2_score(y_test, y_pred1))\n",
        "print('coefficient : ', reg.coef_)\n",
        "print('intercept : ', reg.intercept_)"
      ],
      "metadata": {
        "colab": {
          "base_uri": "https://localhost:8080/"
        },
        "id": "RFn3FPdAgJAV",
        "outputId": "1dc2ca1e-b411-429c-e1e9-8242f3c537e2"
      },
      "execution_count": null,
      "outputs": [
        {
          "output_type": "stream",
          "name": "stdout",
          "text": [
            "r2 score :  0.4693128853309805\n",
            "coefficient :  [  44.02063391 -241.69329987  452.98665299  332.04420177  -76.33686744\n",
            "  -68.52143809 -164.98809083  149.96908118  431.61347417   58.51862681]\n",
            "intercept :  150.89053425602808\n"
          ]
        }
      ]
    }
  ]
}