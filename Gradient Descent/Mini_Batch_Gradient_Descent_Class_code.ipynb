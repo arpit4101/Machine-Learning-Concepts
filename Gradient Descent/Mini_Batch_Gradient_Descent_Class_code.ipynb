{
  "nbformat": 4,
  "nbformat_minor": 0,
  "metadata": {
    "colab": {
      "provenance": [],
      "authorship_tag": "ABX9TyO7RUXZ5I6sRXS0FABUInuw",
      "include_colab_link": true
    },
    "kernelspec": {
      "name": "python3",
      "display_name": "Python 3"
    },
    "language_info": {
      "name": "python"
    }
  },
  "cells": [
    {
      "cell_type": "markdown",
      "metadata": {
        "id": "view-in-github",
        "colab_type": "text"
      },
      "source": [
        "<a href=\"https://colab.research.google.com/github/arpit4101/Machine-Learning-Concepts/blob/main/Gradient%20Descent/Mini_Batch_Gradient_Descent_Class_code.ipynb\" target=\"_parent\"><img src=\"https://colab.research.google.com/assets/colab-badge.svg\" alt=\"Open In Colab\"/></a>"
      ]
    },
    {
      "cell_type": "code",
      "execution_count": null,
      "metadata": {
        "id": "qqxxDdOZL-Qy"
      },
      "outputs": [],
      "source": [
        "from sklearn.datasets import load_diabetes\n",
        "import numpy as np\n",
        "\n",
        "X,y = load_diabetes(return_X_y=True)"
      ]
    },
    {
      "cell_type": "code",
      "source": [
        "X.shape"
      ],
      "metadata": {
        "colab": {
          "base_uri": "https://localhost:8080/"
        },
        "id": "SgLbPKhdM_86",
        "outputId": "7f304114-6dbe-41bb-da8f-35640de7a143"
      },
      "execution_count": null,
      "outputs": [
        {
          "output_type": "execute_result",
          "data": {
            "text/plain": [
              "(442, 10)"
            ]
          },
          "metadata": {},
          "execution_count": 2
        }
      ]
    },
    {
      "cell_type": "code",
      "source": [
        "from sklearn.model_selection import train_test_split\n",
        "X_train, X_test, y_train, y_test = train_test_split(X, y, test_size = 0.2, random_state = 2)\n",
        "\n",
        "X_train.shape"
      ],
      "metadata": {
        "colab": {
          "base_uri": "https://localhost:8080/"
        },
        "id": "7M41425INBCn",
        "outputId": "250b2a2c-91b8-4735-fb83-7b1ea6455d83"
      },
      "execution_count": null,
      "outputs": [
        {
          "output_type": "execute_result",
          "data": {
            "text/plain": [
              "(353, 10)"
            ]
          },
          "metadata": {},
          "execution_count": 3
        }
      ]
    },
    {
      "cell_type": "code",
      "source": [
        "from sklearn.linear_model import LinearRegression\n",
        "lr = LinearRegression()\n",
        "lr.fit(X_train,y_train)\n",
        "\n",
        "from sklearn.metrics import r2_score\n",
        "r2_score(y_test,lr.predict(X_test))"
      ],
      "metadata": {
        "colab": {
          "base_uri": "https://localhost:8080/"
        },
        "id": "bTplTGmcOY2P",
        "outputId": "261da571-8140-421e-f468-a887d688cc4a"
      },
      "execution_count": null,
      "outputs": [
        {
          "output_type": "execute_result",
          "data": {
            "text/plain": [
              "0.4399338661568968"
            ]
          },
          "metadata": {},
          "execution_count": 5
        }
      ]
    },
    {
      "cell_type": "markdown",
      "source": [
        "# Mini-Batch Gradient Descent class created by own"
      ],
      "metadata": {
        "id": "iy5bQA9jOz-r"
      }
    },
    {
      "cell_type": "code",
      "source": [
        "import random\n",
        "\n",
        "class MBGDRegressor:\n",
        "\n",
        "  def __init__(self, batch_size, learning_rate = 0.1, epochs = 50):\n",
        "    self.intercept_ = None\n",
        "    self.coef_ = None\n",
        "    self.lr = learning_rate\n",
        "    self.epochs = epochs\n",
        "    self.batch_size = batch_size\n",
        "\n",
        "  def fit(self, X_train, y_train):\n",
        "\n",
        "    #initialize intercept & coefficient\n",
        "    self.intercept_ = 0\n",
        "    self.coef_ = np.ones(X_train.shape[1])\n",
        "\n",
        "\n",
        "    for i in range(self.epochs):\n",
        "      for j in range(int(X_train.shape[0] / self.batch_size)):\n",
        "\n",
        "        #generate indices for mini-batch\n",
        "        idx = random.sample(range(X_train.shape[0]), self.batch_size)  #returns an array of indices (n indices = no. of batch size)\n",
        "\n",
        "\n",
        "        y_hat = np.dot(X_train[idx] , self.coef_) + self.intercept_\n",
        "\n",
        "        slope_coef = -2 * np.dot( (y_train[idx] - y_hat), X_train[idx])\n",
        "        self.coef_ -= self.lr * slope_coef\n",
        "\n",
        "        slope_intercept = -2 * np.mean(y_train[idx] - y_hat)\n",
        "        self.intercept_ -= self.lr * slope_intercept\n",
        "\n",
        "  def predict(self, X_test):\n",
        "    return np.dot(X_test , self.coef_) + self.intercept_"
      ],
      "metadata": {
        "id": "sruCPd7ZOyUH"
      },
      "execution_count": null,
      "outputs": []
    },
    {
      "cell_type": "code",
      "source": [
        "mbgd = MBGDRegressor(batch_size = int(X_train.shape[0]/50), learning_rate = 0.01, epochs = 100)\n",
        "mbgd.fit(X_train, y_train)\n",
        "\n",
        "y_pred1 = mbgd.predict(X_test)\n",
        "r2_score(y_test, y_pred1)"
      ],
      "metadata": {
        "colab": {
          "base_uri": "https://localhost:8080/"
        },
        "id": "LdPX8tpyUUXd",
        "outputId": "2876897b-162b-4423-a371-12fa237559fc"
      },
      "execution_count": null,
      "outputs": [
        {
          "output_type": "execute_result",
          "data": {
            "text/plain": [
              "0.4541776958268826"
            ]
          },
          "metadata": {},
          "execution_count": 50
        }
      ]
    },
    {
      "cell_type": "markdown",
      "source": [
        "# Mini-Batch Gradient descent through Sklearn's class"
      ],
      "metadata": {
        "id": "XmCMZn7TjoJA"
      }
    },
    {
      "cell_type": "code",
      "source": [
        "from sklearn.linear_model import SGDRegressor\n",
        "\n",
        "mbsgd = SGDRegressor(learning_rate='constant', eta0=0.1)\n",
        "\n",
        "batch_size = 50\n",
        "\n",
        "for i in range(100):\n",
        "\n",
        "  idx = random.sample(range(X_train.shape[0]), batch_size)\n",
        "  mbsgd.partial_fit(X_train[idx],y_train[idx])\n",
        "\n",
        "r2_score(y_test, mbsgd.predict(X_test))"
      ],
      "metadata": {
        "id": "hTslAwM6jnJl",
        "colab": {
          "base_uri": "https://localhost:8080/"
        },
        "outputId": "daccf6e7-0d45-4258-a4d6-c9f51bb3c7c3"
      },
      "execution_count": null,
      "outputs": [
        {
          "output_type": "execute_result",
          "data": {
            "text/plain": [
              "0.4436962104788954"
            ]
          },
          "metadata": {},
          "execution_count": 61
        }
      ]
    },
    {
      "cell_type": "code",
      "source": [
        "mbsgd.coef_"
      ],
      "metadata": {
        "colab": {
          "base_uri": "https://localhost:8080/"
        },
        "id": "M9q7K-azkxzM",
        "outputId": "7eefce0d-609e-45b8-a946-e9fae44b9482"
      },
      "execution_count": null,
      "outputs": [
        {
          "output_type": "execute_result",
          "data": {
            "text/plain": [
              "array([  52.57273052,  -66.33997308,  338.30778167,  233.29331207,\n",
              "         17.07185833,  -28.90246096, -173.48017136,  128.24686235,\n",
              "        312.32078647,  149.25786495])"
            ]
          },
          "metadata": {},
          "execution_count": 57
        }
      ]
    }
  ]
}