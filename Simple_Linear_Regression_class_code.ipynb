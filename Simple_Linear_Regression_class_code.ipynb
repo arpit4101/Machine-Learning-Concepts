{
  "nbformat": 4,
  "nbformat_minor": 0,
  "metadata": {
    "colab": {
      "provenance": [],
      "authorship_tag": "ABX9TyNFxP12VPucog8veoBxOt9b",
      "include_colab_link": true
    },
    "kernelspec": {
      "name": "python3",
      "display_name": "Python 3"
    },
    "language_info": {
      "name": "python"
    }
  },
  "cells": [
    {
      "cell_type": "markdown",
      "metadata": {
        "id": "view-in-github",
        "colab_type": "text"
      },
      "source": [
        "<a href=\"https://colab.research.google.com/github/arpit4101/Machine-Learning-Concepts/blob/main/Simple_Linear_Regression_class_code.ipynb\" target=\"_parent\"><img src=\"https://colab.research.google.com/assets/colab-badge.svg\" alt=\"Open In Colab\"/></a>"
      ]
    },
    {
      "cell_type": "code",
      "execution_count": null,
      "metadata": {
        "id": "PNVTW51X-3Fy"
      },
      "outputs": [],
      "source": [
        "#Creating simple liner regression (OLS technique) class on our own\n",
        "\n",
        "import numpy as np\n",
        "import pandas as pd\n",
        "\n",
        "class MeraLR :\n",
        "\n",
        "  def __init__(self):\n",
        "    self.m = None\n",
        "    self.b = None\n",
        "\n",
        "  def fit(self, X_train, y_train):\n",
        "    num = 0\n",
        "    den = 0\n",
        "\n",
        "    for i in range(X_train.shape[0]):\n",
        "      num = num + ((X_train[i] - X_train.mean()) * (y_train[i] - y_train.mean()))\n",
        "      den = den + ((X_train[i] - X_train.mean())**2)\n",
        "\n",
        "    self.m = num/den\n",
        "    self.b = y_train.mean() - (self.m * X_train.mean())\n",
        "    print('m (slope) : ', self.m)\n",
        "    print('b (y-intercept) : ', self.b)\n",
        "\n",
        "  def predict(self, X_test):\n",
        "\n",
        "    return (self.m * X_test) + self.b"
      ]
    },
    {
      "cell_type": "code",
      "source": [
        "df = pd.read_csv('/content/placement.csv')\n",
        "\n",
        "x = df.iloc[:,0].values\n",
        "y = df.iloc[:,1].values"
      ],
      "metadata": {
        "id": "WX1QQT82CWFd"
      },
      "execution_count": null,
      "outputs": []
    },
    {
      "cell_type": "code",
      "source": [
        "from sklearn.model_selection import train_test_split\n",
        "\n",
        "X_train, X_test, y_train, y_test = train_test_split(x, y, test_size = 0.2, random_state = 2)"
      ],
      "metadata": {
        "id": "J94-LrBqC4In"
      },
      "execution_count": null,
      "outputs": []
    },
    {
      "cell_type": "code",
      "source": [
        "lr = MeraLR()"
      ],
      "metadata": {
        "id": "od9-4TiWDcf_"
      },
      "execution_count": null,
      "outputs": []
    },
    {
      "cell_type": "code",
      "source": [
        "lr.fit(X_train, y_train)"
      ],
      "metadata": {
        "colab": {
          "base_uri": "https://localhost:8080/"
        },
        "id": "MmQSYasGDf_1",
        "outputId": "021a1ff0-4013-486b-c4b8-2e18e27bfe33"
      },
      "execution_count": null,
      "outputs": [
        {
          "output_type": "stream",
          "name": "stdout",
          "text": [
            "m (slope) :  0.5579519734250721\n",
            "b (y-intercept) :  -0.8961119222429152\n"
          ]
        }
      ]
    },
    {
      "cell_type": "code",
      "source": [
        "print(X_test[0])\n",
        "print(lr.predict(X_test)[0])"
      ],
      "metadata": {
        "colab": {
          "base_uri": "https://localhost:8080/"
        },
        "id": "K0OTQSt6EPcF",
        "outputId": "bf449824-bfef-48b8-a0b7-3a349e248763"
      },
      "execution_count": null,
      "outputs": [
        {
          "output_type": "stream",
          "name": "stdout",
          "text": [
            "8.58\n",
            "3.891116009744203\n"
          ]
        }
      ]
    }
  ]
}